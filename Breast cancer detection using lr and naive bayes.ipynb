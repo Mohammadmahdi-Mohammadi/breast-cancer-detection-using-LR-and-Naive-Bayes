{
 "cells": [
  {
   "cell_type": "markdown",
   "id": "8d16b957",
   "metadata": {},
   "source": [
    "#### Q2-A"
   ]
  },
  {
   "cell_type": "code",
   "execution_count": 14,
   "id": "5d694661",
   "metadata": {
    "scrolled": true
   },
   "outputs": [
    {
     "name": "stdout",
     "output_type": "stream",
     "text": [
      "Report:\n",
      "max_iter:  10\n",
      "penalty:  l2\n",
      "solver:  liblinear\n",
      "C:  1\n",
      "_________________________________________________ \n",
      "\n",
      "Accuracy_score:  0.9912280701754386\n",
      "confusion_matrix:\n",
      "[[37  1]\n",
      " [ 0 76]]\n"
     ]
    }
   ],
   "source": [
    "import random\n",
    "import warnings\n",
    "import pandas as pd\n",
    "from scipy.stats import mode\n",
    "from sklearn.base import clone\n",
    "from sklearn import preprocessing\n",
    "from sklearn.datasets import load_breast_cancer\n",
    "from sklearn.model_selection import GridSearchCV\n",
    "from sklearn.linear_model import LogisticRegression\n",
    "from sklearn.model_selection import train_test_split\n",
    "from sklearn.metrics import accuracy_score, confusion_matrix, auc, roc_curve\n",
    "\n",
    "LogisticRegression_case = LogisticRegression()\n",
    "dataset = load_breast_cancer()\n",
    "x_dim,y_dim= dataset.data,dataset.target\n",
    "# preprocessing added to increase accuracy\n",
    "x_dim = (preprocessing.StandardScaler().fit(x_dim)).transform(x_dim)\n",
    "# split ratio: 2:8\n",
    "Xdim_for_train, Xdim_for_test, ydim_for_train, ydim_for_test = train_test_split(x_dim, y_dim, \n",
    "                                                                                shuffle=True,test_size=0.2)\n",
    "warnings.filterwarnings('ignore')\n",
    "hypothesis = dict(solver=['liblinear','lbfgs', 'newton-cg' ],penalty=['l1','l2'],\n",
    "                      C=[40, 30, 20, 5, 4, 3, 2,1,0.01,0.2,0.3,0.4,0.5,0.6,0.8,0.9],\n",
    "                      max_iter=[10,20,30,40,50,60,70,80,90,100,150,200,300,500,600,800,1000,1200,1400,1600,1800,2000])\n",
    "GridSearchCV_report = GridSearchCV(estimator=LogisticRegression_case, param_grid=hypothesis, n_jobs=-1, \n",
    "                              scoring='accuracy',error_score=0).fit(Xdim_for_train, ydim_for_train)\n",
    "print(\"Report:\")\n",
    "# print(\"Best Acc is :\",GridSearchCV_report.best_score_)\n",
    "print(\"max_iter: \",GridSearchCV_report.best_params_[\"max_iter\"])\n",
    "print(\"penalty: \",GridSearchCV_report.best_params_[\"penalty\"])\n",
    "print(\"solver: \",GridSearchCV_report.best_params_[\"solver\"])\n",
    "best_params_var_smoothing = 0.23101297\n",
    "print(\"C: \",GridSearchCV_report.best_params_[\"C\"])\n",
    "print(\"_________________________________________________ \\n\")\n",
    "LogisticRegression_model = LogisticRegression(max_iter=GridSearchCV_report.best_params_[\"max_iter\"], \n",
    "                        penalty=GridSearchCV_report.best_params_[\"penalty\"],\n",
    "                        C=GridSearchCV_report.best_params_[\"C\"], \n",
    "                        solver= GridSearchCV_report.best_params_[\"solver\"]).fit(Xdim_for_train, ydim_for_train)\n",
    "compare_value_confu = LogisticRegression_model.predict(Xdim_for_test)\n",
    "print(\"Accuracy_score: \", accuracy_score(ydim_for_test, compare_value_confu))\n",
    "print(\"confusion_matrix:\")\n",
    "print(confusion_matrix(ydim_for_test, compare_value_confu))"
   ]
  },
  {
   "cell_type": "markdown",
   "id": "dba667c0",
   "metadata": {},
   "source": [
    "#### Q2-B"
   ]
  },
  {
   "cell_type": "code",
   "execution_count": 15,
   "id": "66fc5bdd",
   "metadata": {},
   "outputs": [
    {
     "name": "stdout",
     "output_type": "stream",
     "text": [
      "accuracy_score:  0.956140350877193 / roc_auc_score:  0.9342105263157895\n",
      "confusion_matrix: \n",
      "[[33  5]\n",
      " [ 0 76]]\n"
     ]
    }
   ],
   "source": [
    "import sklearn.metrics as metrics\n",
    "from sklearn.naive_bayes import GaussianNB\n",
    "\n",
    "gaussian_naive_bayes = GaussianNB()\n",
    "gaussian_naive_bayes.fit(Xdim_for_train, ydim_for_train)\n",
    "compare_value = gaussian_naive_bayes.predict(Xdim_for_test)\n",
    "confusion_matrix = metrics.confusion_matrix(ydim_for_test, compare_value)\n",
    "accuracy_score,roc_auc_score = metrics.accuracy_score(ydim_for_test, compare_value),metrics.roc_auc_score(ydim_for_test, compare_value)\n",
    "print(\"accuracy_score: \", accuracy_score, \"/ roc_auc_score: \",roc_auc_score)\n",
    "print(\"confusion_matrix: \")\n",
    "print(confusion_matrix)"
   ]
  },
  {
   "cell_type": "markdown",
   "id": "817fc538",
   "metadata": {},
   "source": [
    "### Q2-C"
   ]
  },
  {
   "cell_type": "code",
   "execution_count": 16,
   "id": "16284b2a",
   "metadata": {},
   "outputs": [
    {
     "name": "stdout",
     "output_type": "stream",
     "text": [
      "[27, 0.9407894736842106]\n",
      "[20, 0.9210526315789475]\n",
      "[22, 0.9210526315789475]\n",
      "[23, 0.9144736842105263]\n",
      "[7, 0.9013157894736842]\n",
      "[3, 0.8947368421052633]\n",
      "[2, 0.888157894736842]\n",
      "[0, 0.8815789473684209]\n",
      "[13, 0.8552631578947368]\n",
      "[6, 0.8552631578947367]\n",
      "[10, 0.8289473684210527]\n",
      "[26, 0.8223684210526316]\n",
      "[5, 0.8026315789473684]\n",
      "[12, 0.7960526315789475]\n",
      "[25, 0.7894736842105262]\n",
      "[24, 0.6644736842105263]\n",
      "[17, 0.6578947368421053]\n",
      "[28, 0.6578947368421053]\n",
      "[8, 0.6447368421052633]\n",
      "[4, 0.625]\n",
      "[21, 0.625]\n",
      "[1, 0.611842105263158]\n",
      "[29, 0.5789473684210527]\n",
      "[16, 0.5394736842105263]\n",
      "[15, 0.5131578947368421]\n",
      "[9, 0.5]\n",
      "[11, 0.5]\n",
      "[14, 0.5]\n",
      "[18, 0.5]\n",
      "[19, 0.4934210526315789]\n"
     ]
    }
   ],
   "source": [
    "\n",
    "from sklearn.metrics import accuracy_score, confusion_matrix, auc, roc_curve\n",
    "import numpy as np\n",
    "\n",
    "area_under_curve_array,models_array = [],[]\n",
    "for i in range(0, 30):\n",
    "    f_vector = Xdim_for_train[:, i]\n",
    "    models_array.append(LogisticRegression())\n",
    "    models_array[i].fit(f_vector.reshape(-1, 1), ydim_for_train)\n",
    "    compare_value = models_array[i].predict(Xdim_for_test[:, i].reshape(-1, 1))\n",
    "    false_psitive_count, true_psitive_count, extra = roc_curve(ydim_for_test, compare_value)\n",
    "    area_under_curve_array.append([i, auc(false_psitive_count, true_psitive_count)])\n",
    "area_under_curve_array = sorted(area_under_curve_array,key=lambda x: x[1], reverse=True)\n",
    "# print(len(area_under_curve_array))\n",
    "for i in area_under_curve_array:\n",
    "    print(i)\n",
    "area_under_curve_array = np.array(area_under_curve_array)\n",
    "# print(area_under_curve_array.shape)\n",
    "array_cut = area_under_curve_array[:, 0][:20]\n",
    "# print(array_cut.shape)\n",
    "important_features = Xdim_for_train[:,array_cut.astype(int)]\n",
    "# print(\"?????????\",important_features.shape)\n"
   ]
  },
  {
   "cell_type": "markdown",
   "id": "0ee20b6b",
   "metadata": {},
   "source": [
    "### LogisticRegression_model"
   ]
  },
  {
   "cell_type": "code",
   "execution_count": 17,
   "id": "e9a20c44",
   "metadata": {
    "scrolled": true
   },
   "outputs": [
    {
     "name": "stdout",
     "output_type": "stream",
     "text": [
      "LogisticRegression model: \n",
      "shape:  (114,) (114,)\n",
      "0.9649122807017544\n",
      "[[35  3]\n",
      " [ 1 75]]\n"
     ]
    }
   ],
   "source": [
    "LogisticRegression_model = LogisticRegression(max_iter=GridSearchCV_report.best_params_[\"max_iter\"], \n",
    "                        penalty=GridSearchCV_report.best_params_[\"penalty\"],\n",
    "                        C=GridSearchCV_report.best_params_[\"C\"], \n",
    "                        solver= GridSearchCV_report.best_params_[\"solver\"]).fit(important_features, ydim_for_train)\n",
    "\n",
    "y_pred = LogisticRegression_model.predict(Xdim_for_test[:, array_cut.astype(int)])\n",
    "print(\"LogisticRegression model: \")\n",
    "print(\"shape: \",ydim_for_test.shape,y_pred.shape)\n",
    "print(accuracy_score(ydim_for_test, y_pred))\n",
    "print(confusion_matrix(ydim_for_test, y_pred))"
   ]
  },
  {
   "cell_type": "markdown",
   "id": "ae2561dd",
   "metadata": {},
   "source": [
    "### Gaussian_naive_bayes_model"
   ]
  },
  {
   "cell_type": "code",
   "execution_count": 18,
   "id": "58f6309f",
   "metadata": {},
   "outputs": [
    {
     "name": "stdout",
     "output_type": "stream",
     "text": [
      "accuracy_score:  0.9473684210526315\n",
      "confusion_matrix: \n",
      "[[32  6]\n",
      " [ 0 76]]\n"
     ]
    }
   ],
   "source": [
    "gaussian_naive_bayes = GaussianNB(var_smoothing = best_params_var_smoothing).fit(\n",
    "    important_features, ydim_for_train)\n",
    "compare_val = gaussian_naive_bayes.predict(Xdim_for_test[:, array_cut.astype(int)])\n",
    "confusion_matrix = confusion_matrix(ydim_for_test, compare_val)\n",
    "print(\"accuracy_score: \", accuracy_score(ydim_for_test, compare_val))\n",
    "print(\"confusion_matrix: \")\n",
    "print(confusion_matrix)\n"
   ]
  },
  {
   "cell_type": "markdown",
   "id": "363da376",
   "metadata": {},
   "source": [
    "### Q2-D"
   ]
  },
  {
   "cell_type": "code",
   "execution_count": 19,
   "id": "4a451f96",
   "metadata": {},
   "outputs": [
    {
     "name": "stdout",
     "output_type": "stream",
     "text": [
      "GaussianNB \n",
      " [[36  2]\n",
      " [ 2 74]]\n",
      "accuracy:0.9649122807017544\n",
      "Area_Under_Curve: 0.9605263157894739\n",
      "_____________________________________________________________ \n",
      " \n",
      "MultinomialNB \n",
      " [[34  4]\n",
      " [ 1 75]]\n",
      "ACC:  0.956140350877193\n",
      "Area_Under_Curve: 0.9407894736842106\n"
     ]
    }
   ],
   "source": [
    "from sklearn.naive_bayes import GaussianNB, MultinomialNB\n",
    "from sklearn.metrics import accuracy_score, confusion_matrix, auc, roc_curve\n",
    "import numpy as np\n",
    "sampling_Xdim_for_train,sampling_Xdim_for_test = [],[]\n",
    "prob_X_train,prob_X_test = [],[]\n",
    "for i, model_present in enumerate(models_array):\n",
    "    prophecy_prediction = model_present.predict_proba(Xdim_for_train[:, i].reshape(-1, 1))\n",
    "    prophecy_prediction_testdim = model_present.predict_proba(Xdim_for_test[:, i].reshape(-1, 1))\n",
    "    sampling_Xdim_for_train.append(prophecy_prediction[:, 0])\n",
    "    sampling_Xdim_for_train.append(prophecy_prediction[:, 1])\n",
    "    sampling_Xdim_for_test.append(prophecy_prediction_testdim[:, 0])\n",
    "    sampling_Xdim_for_test.append(prophecy_prediction_testdim[:, 1])\n",
    "train,test = np.array(sampling_Xdim_for_train).T,np.array(sampling_Xdim_for_test).T\n",
    "# new dataset to train Gaussian and Multinomial Naïve Bayes\n",
    "model_GaussianNB = GaussianNB()\n",
    "current_model_Gaussuan = model_GaussianNB.fit(train, ydim_for_train)\n",
    "compare_val = current_model_Gaussuan.predict(test)\n",
    "matrix = confusion_matrix(ydim_for_test, compare_val)\n",
    "print(\"GaussianNB \\n\", matrix)\n",
    "print(f\"accuracy:{accuracy_score(ydim_for_test, compare_val)}\")\n",
    "false_psitive_count, true_psitive_count, extra = roc_curve(ydim_for_test, compare_val)\n",
    "area_under_curve = auc(false_psitive_count, true_psitive_count)\n",
    "print(\"Area_Under_Curve:\", area_under_curve)\n",
    "print(\"_____________________________________________________________ \\n \")\n",
    "model_MultinomialNB = MultinomialNB()\n",
    "current_model_Gaussuan = model_MultinomialNB.fit(train, ydim_for_train)\n",
    "compare_val = current_model_Gaussuan.predict(test)\n",
    "matrix = confusion_matrix(ydim_for_test, compare_val)\n",
    "print(\"MultinomialNB \\n\", matrix)\n",
    "accuracy = accuracy_score(ydim_for_test, compare_val)\n",
    "print(\"ACC: \", accuracy)\n",
    "false_psitive_count, true_psitive_count, extra = roc_curve(ydim_for_test, compare_val)\n",
    "area_under_curve = auc(false_psitive_count, true_psitive_count)\n",
    "print(\"Area_Under_Curve:\", area_under_curve)"
   ]
  }
 ],
 "metadata": {
  "kernelspec": {
   "display_name": "Python 3 (ipykernel)",
   "language": "python",
   "name": "python3"
  },
  "language_info": {
   "codemirror_mode": {
    "name": "ipython",
    "version": 3
   },
   "file_extension": ".py",
   "mimetype": "text/x-python",
   "name": "python",
   "nbconvert_exporter": "python",
   "pygments_lexer": "ipython3",
   "version": "3.9.13"
  }
 },
 "nbformat": 4,
 "nbformat_minor": 5
}
